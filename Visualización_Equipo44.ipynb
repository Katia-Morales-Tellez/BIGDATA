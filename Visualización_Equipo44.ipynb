{
  "nbformat": 4,
  "nbformat_minor": 0,
  "metadata": {
    "colab": {
      "provenance": []
    },
    "kernelspec": {
      "name": "python3",
      "display_name": "Python 3"
    },
    "language_info": {
      "name": "python"
    }
  },
  "cells": [
    {
      "cell_type": "markdown",
      "source": [
        "# **Maestría en Inteligencia Artificial Aplicada**\n",
        "\n",
        "## Curso: **Análisis de Grandes Volúmenes de Datos**\n",
        "\n",
        "### Tecnológico de Monterrey\n",
        "\n",
        "### Profesor: Dr. Iván Olmos Pineda\n",
        "\n",
        "## Actividad 5\n",
        "\n",
        "### **Actividad de visualización de resultados**\n",
        "\n",
        "\n",
        "- Katia Elyded Morales Téllez A01796679\n",
        "- Sinuhé Pérez Alvarez A01795938\n",
        "- Edson Ulises Rodríguez Dávalos A01796057\n",
        "- Víctor Eduardo Pérez Aguilar A01796394\n",
        "\n"
      ],
      "metadata": {
        "id": "X6qUjFLAk4XV"
      }
    },
    {
      "cell_type": "markdown",
      "source": [
        "# 1. **Validación cruzada: definición y justificación de k:**"
      ],
      "metadata": {
        "id": "11SvI3VilX2d"
      }
    },
    {
      "cell_type": "markdown",
      "source": [
        "Como equipo, analizamos la muestra M generada en la Actividad 4, la cual contiene un total de 54,564 registros, con el objetivo de definir un valor adecuado de k para implementar la validación cruzada (k-fold cross-validation). Esta técnica nos permitirá evaluar de forma consistente la variabilidad y estabilidad del rendimiento del modelo supervisado Random Forest, el cual presentó los mejores resultados previamente (precisión: 0.7840, F1-score: 0.6894).\n",
        "\n",
        "**Criterios que consideramos para elegir el valor de \"k\":**\n",
        "\n",
        "Tamaño de la muestra (54,564 registros):\n",
        "\n",
        "*   Un valor de k demasiado alto reduciría el tamaño de cada fold, lo cual podría limitar la capacidad del modelo para aprender patrones representativos. Por otro lado, un valor muy bajo comprometería la robustez de la validación al no capturar adecuadamente la variabilidad entre particiones.\n",
        "\n",
        "*   Costo computacional:Sabemos que aumentar el número de folds incrementa también el número de veces que el modelo debe entrenarse, lo cual eleva el tiempo de cómputo, algo importante al trabajar con Big Data.\n",
        "\n",
        "*   Representatividad:\n",
        "Consideramos esencial que cada fold conserve una distribución similar a la original en cuanto a las clases objetivo. Esto asegura que los resultados sean comparables y reflejen el comportamiento real del modelo.\n",
        "\n",
        "\n",
        "**Conclusión sobre el valor de \"k\":**\n",
        "\n",
        "Después de evaluar estos factores, decidimos utilizar k = 5. Este valor nos permite un buen equilibrio entre:\n",
        "\n",
        "Tamaño suficiente de datos por fold (~10,912 registros por fold).\n",
        "Costo computacional razonable.\n",
        "Evaluación confiable de la variabilidad del modelo.\n",
        "Además, este valor es una práctica común y recomendada en escenarios de procesamiento masivo de datos, como el que manejamos en este proyecto."
      ],
      "metadata": {
        "id": "zzQj89t9msw4"
      }
    },
    {
      "cell_type": "code",
      "source": [
        "from pyspark.ml.tuning import CrossValidator, ParamGridBuilder\n",
        "from pyspark.ml.evaluation import MulticlassClassificationEvaluator\n",
        "from pyspark.ml.classification import RandomForestClassifier\n",
        "from pyspark.sql import SparkSession\n",
        "\n",
        "spark = SparkSession.builder \\\n",
        "    .appName(\"Actividad 5 - Visualizacion Resultados\") \\\n",
        "    .master(\"local[*]\") \\\n",
        "    .getOrCreate()\n",
        "\n",
        "\n",
        "# Modelo base (según la Actividad 4)\n",
        "rf = RandomForestClassifier(featuresCol='features', labelCol='label', seed=42)\n",
        "\n",
        "\n",
        "evaluator = MulticlassClassificationEvaluator(labelCol='label', predictionCol='prediction', metricName='accuracy')\n",
        "\n",
        "# CrossValidator con k=5\n",
        "crossval = CrossValidator(estimator=rf,\n",
        "                          estimatorParamMaps=ParamGridBuilder().build(),\n",
        "                          evaluator=evaluator,\n",
        "                          numFolds=5,\n",
        "                          seed=42)\n",
        "\n",
        "# Nota: Se ejecutará después con los datos de entrenamiento."
      ],
      "metadata": {
        "id": "m7pbrjAxmVks"
      },
      "execution_count": 2,
      "outputs": []
    },
    {
      "cell_type": "markdown",
      "source": [
        "# 2. **Construcción de los k-folds definidos:**"
      ],
      "metadata": {
        "id": "RlUlRtD7oofw"
      }
    },
    {
      "cell_type": "markdown",
      "source": [
        "Ahora que seleccionamos k = 5, el siguiente paso es construir manualmente los pliegues (folds) de validación cruzada, ya que PySpark no ofrece una función directa para generar folds personalizados con control detallado del muestreo estratificado.\n",
        "\n",
        "En esta sección, implementaremos un proceso que:\n",
        "- Mantengala distribución de clases en cada fold (estratificación).\n",
        "- Respete el volumen de datos y evite costos computacionales excesivos.\n",
        "- Prepare los datos para entrenamiento y prueba a través de iteraciones sobre cada fold."
      ],
      "metadata": {
        "id": "n1lhT6pwoxMP"
      }
    },
    {
      "cell_type": "code",
      "source": [
        "# -----------------------------\n",
        "# BLOQUE DE PREPARACIÓN DE DATOS (basado en la Actividad 4)\n",
        "# -----------------------------\n",
        "\n",
        "from pyspark.sql import SparkSession\n",
        "from pyspark.sql.functions import col\n",
        "from pyspark.ml.feature import StringIndexer, VectorAssembler\n",
        "\n",
        "spark = SparkSession.builder \\\n",
        "    .appName(\"Actividad 5 - Visualización Resultados\") \\\n",
        "    .master(\"local[*]\") \\\n",
        "    .getOrCreate()\n",
        "\n",
        "ruta = \"/content/Chicago_Crimes_-_2001_to_Present.csv\"\n",
        "df = spark.read.csv(ruta, header=True, inferSchema=True)\n",
        "\n",
        "# Aplicamos las mismas reglas de segmentación definidas en la Actividad 4 :)\n",
        "regla_A = df.filter((col(\"Primary Type\") == \"THEFT\") & (col(\"Domestic\") == True))\n",
        "regla_B = df.filter((col(\"Primary Type\") == \"BATTERY\") & (col(\"Domestic\") == False))\n",
        "regla_C = df.filter((col(\"Primary Type\") == \"NARCOTICS\") & (col(\"Domestic\") == True))\n",
        "regla_D = df.filter((col(\"Primary Type\") == \"ASSAULT\") & (col(\"Domestic\") == False))\n",
        "\n",
        "# Muestreo estratificado del 10% con semilla fija (igual que en Actividad 4)\n",
        "muestra_A = regla_A.sample(fraction=0.1, seed=42)\n",
        "muestra_B = regla_B.sample(fraction=0.1, seed=42)\n",
        "muestra_C = regla_C.sample(fraction=0.1, seed=42)\n",
        "muestra_D = regla_D.sample(fraction=0.1, seed=42)\n",
        "\n",
        "muestra_M = muestra_A.union(muestra_B).union(muestra_C).union(muestra_D)\n",
        "\n",
        "columnas_modelo = ['Primary Type', 'Domestic', 'District', 'Community Area', 'Arrest']\n",
        "df_modelo = muestra_M.select(columnas_modelo).dropna()\n",
        "\n",
        "indexador_tipo = StringIndexer(inputCol='Primary Type', outputCol='PrimaryTypeIndex')\n",
        "df_modelo = indexador_tipo.fit(df_modelo).transform(df_modelo)\n",
        "df_modelo = df_modelo.withColumn(\"Arrest_str\", col(\"Arrest\").cast(\"string\"))\n",
        "indexador_arresto = StringIndexer(inputCol='Arrest_str', outputCol='label')\n",
        "df_modelo = indexador_arresto.fit(df_modelo).transform(df_modelo)\n",
        "\n",
        "# Ensamblaje de variables numéricas en un vector de características\n",
        "ensamblador = VectorAssembler(\n",
        "    inputCols=['PrimaryTypeIndex', 'Domestic', 'District', 'Community Area'],\n",
        "    outputCol='features'\n",
        ")\n",
        "df_final = ensamblador.transform(df_modelo).select('features', 'label')\n",
        "\n",
        "# -----------------------------\n",
        "# Fin del bloque replicado de la Actividad 4\n",
        "# -----------------------------\n"
      ],
      "metadata": {
        "id": "pKaOCgq1o3e_"
      },
      "execution_count": 4,
      "outputs": []
    },
    {
      "cell_type": "code",
      "source": [
        "from pyspark.sql.functions import col, rand, row_number\n",
        "from pyspark.sql.window import Window\n",
        "from pyspark.sql.types import IntegerType\n",
        "from pyspark.sql.functions import udf\n",
        "\n",
        "\n",
        "# aquiiii añadimos una columna aleatoria para mezcla reproducible!\n",
        "df_shuffled = df_final.withColumn(\"rand\", rand(seed=42))\n",
        "\n",
        "window = Window.partitionBy(\"label\").orderBy(\"rand\")\n",
        "df_indexed = df_shuffled.withColumn(\"row_num\", row_number().over(window))\n",
        "\n",
        "# aqui calculams el número de registros por clase\n",
        "class_counts = df_indexed.groupBy(\"label\").count().collect()\n",
        "class_limits = {row[\"label\"]: row[\"count\"] // 5 for row in class_counts}\n",
        "\n",
        "# Función para asignar fold con base en el número de fila y la clase\n",
        "def assign_fold(row_num, label):\n",
        "    fold = (row_num - 1) // class_limits[label]\n",
        "    return int(fold if fold < 5 else 4)  # Evita overflow por redondeo\n",
        "\n",
        "# Registramos la función como UDF\n",
        "assign_fold_udf = udf(assign_fold, IntegerType())\n",
        "\n",
        "# Aplicamos la función para asignar cada registro a un fold del 0 al 4\n",
        "df_folds = df_indexed.withColumn(\"fold\", assign_fold_udf(\"row_num\", \"label\"))\n",
        "\n",
        "# Mostramos la distribución de clases en cada fold para verificar la estratificación\n",
        "df_folds.groupBy(\"fold\", \"label\").count().orderBy(\"fold\", \"label\").show()\n"
      ],
      "metadata": {
        "colab": {
          "base_uri": "https://localhost:8080/"
        },
        "id": "m0igKM2wqXXm",
        "outputId": "c5874cbf-aeab-4871-dc87-f761e896672f"
      },
      "execution_count": 6,
      "outputs": [
        {
          "output_type": "stream",
          "name": "stdout",
          "text": [
            "+----+-----+-----+\n",
            "|fold|label|count|\n",
            "+----+-----+-----+\n",
            "|   0|  0.0|  114|\n",
            "|   0|  1.0|   32|\n",
            "|   1|  0.0|  114|\n",
            "|   1|  1.0|   32|\n",
            "|   2|  0.0|  114|\n",
            "|   2|  1.0|   32|\n",
            "|   3|  0.0|  114|\n",
            "|   3|  1.0|   32|\n",
            "|   4|  0.0|  116|\n",
            "|   4|  1.0|   36|\n",
            "+----+-----+-----+\n",
            "\n"
          ]
        }
      ]
    },
    {
      "cell_type": "markdown",
      "source": [
        "# 3. **Fase de entrenamiento con validación cruzada manual**"
      ],
      "metadata": {
        "id": "nf3tRoP_sgic"
      }
    },
    {
      "cell_type": "markdown",
      "source": [
        "Decidimos usar el modelo supervisado Random Forest, dado que fue el que mejores resultados nos dio en la Actividad 4. Para evaluar la estabilidad del modelo, entrenamos y probamos el modelo 5 veces, usando los folds que construimos previamente.\n",
        "\n",
        "En cada iteración:\n",
        "\n",
        "- Usamos 4 folds como conjunto de entrenamiento.\n",
        "- El fold restante se usa como conjunto de prueba.\n",
        "- Registramos las métricas de evaluación: Precisión (Accuracy) y F1-score."
      ],
      "metadata": {
        "id": "PIHZkE6pshF7"
      }
    },
    {
      "cell_type": "code",
      "source": [
        "# Aquí inicializamos los evaluadores\n",
        "evaluator_acc = MulticlassClassificationEvaluator(labelCol=\"label\", predictionCol=\"prediction\", metricName=\"accuracy\")\n",
        "evaluator_f1 = MulticlassClassificationEvaluator(labelCol=\"label\", predictionCol=\"prediction\", metricName=\"f1\")\n",
        "\n",
        "resultados = []\n",
        "\n",
        "# Ahora lo que hacemos es que ntrenamos y evaluamos sobre cada fold\n",
        "for k in range(5):\n",
        "    print(f\"\\nFold {k}:\")\n",
        "\n",
        "    test_fold = df_folds.filter(col(\"fold\") == k).select(\"features\", \"label\")  # -> Datos de prueba = fold actual\n",
        "    train_folds = df_folds.filter(col(\"fold\") != k).select(\"features\", \"label\") # -> Datos de entrenamiento = todos los demás folds\n",
        "\n",
        "    #Random Forest\n",
        "    rf = RandomForestClassifier(featuresCol='features', labelCol='label', numTrees=100, seed=42)\n",
        "    modelo = rf.fit(train_folds)\n",
        "\n",
        "    # Predicciones\n",
        "    predicciones = modelo.transform(test_fold)\n",
        "\n",
        "    # evaluación\n",
        "    acc = evaluator_acc.evaluate(predicciones)\n",
        "    f1 = evaluator_f1.evaluate(predicciones)\n",
        "\n",
        "    print(f\"  Precisión: {acc:.4f}\")\n",
        "    print(f\"  F1-score : {f1:.4f}\")\n",
        "\n",
        "    resultados.append((k, acc, f1))\n"
      ],
      "metadata": {
        "colab": {
          "base_uri": "https://localhost:8080/"
        },
        "id": "gdapyICatM4z",
        "outputId": "bd55e286-9dc7-44ea-98dc-45587b73c679"
      },
      "execution_count": 7,
      "outputs": [
        {
          "output_type": "stream",
          "name": "stdout",
          "text": [
            "\n",
            "Fold 0:\n",
            "  Precisión: 0.7534\n",
            "  F1-score : 0.6710\n",
            "\n",
            "Fold 1:\n",
            "  Precisión: 0.7671\n",
            "  F1-score : 0.6779\n",
            "\n",
            "Fold 2:\n",
            "  Precisión: 0.7808\n",
            "  F1-score : 0.6847\n",
            "\n",
            "Fold 3:\n",
            "  Precisión: 0.7534\n",
            "  F1-score : 0.6817\n",
            "\n",
            "Fold 4:\n",
            "  Precisión: 0.7566\n",
            "  F1-score : 0.6574\n"
          ]
        }
      ]
    },
    {
      "cell_type": "markdown",
      "source": [
        "#4. **Visualización de resultados:**"
      ],
      "metadata": {
        "id": "HCAWafA3uPQu"
      }
    },
    {
      "cell_type": "markdown",
      "source": [
        "Decidimos representar gráficamente las métricas obtenidas en la validación cruzada para analizar visualmente la estabilidad del modelo. Mostraremos dos gráficos:\n",
        "\n",
        "- Gráfico de barras con la precisión y el F1-score por fold.\n",
        "- boxplot para visualizar la dispersión de ambas métricas y detectar variabilidad.\n"
      ],
      "metadata": {
        "id": "9vEYgO2puYGB"
      }
    },
    {
      "cell_type": "code",
      "source": [
        "import pandas as pd\n",
        "import matplotlib.pyplot as plt\n",
        "import seaborn as sns\n",
        "\n",
        "df_resultados = pd.DataFrame(resultados, columns=[\"Fold\", \"Precisión\", \"F1_score\"])\n",
        "\n",
        "# ggráfico de barras para Precisión y F1 por fold:\n",
        "plt.figure(figsize=(10, 5))\n",
        "df_resultados.plot(x=\"Fold\", y=[\"Precisión\", \"F1_score\"], kind=\"bar\", colormap=\"viridis\")\n",
        "plt.title(\"Precisión y F1-score por Fold\")\n",
        "plt.ylabel(\"Valor\")\n",
        "plt.xticks(rotation=0)\n",
        "plt.grid(axis='y')\n",
        "plt.legend(loc=\"lower right\")\n",
        "plt.tight_layout()\n",
        "plt.show()\n",
        "\n",
        "# Boxplot\n",
        "plt.figure(figsize=(6, 5))\n",
        "sns.boxplot(data=df_resultados[[\"Precisión\", \"F1_score\"]])\n",
        "plt.title(\"Distribución de métricas por Fold\")\n",
        "plt.ylabel(\"Valor\")\n",
        "plt.grid(axis='y')\n",
        "plt.tight_layout()\n",
        "plt.show()\n"
      ],
      "metadata": {
        "colab": {
          "base_uri": "https://localhost:8080/",
          "height": 994
        },
        "id": "Xyb10dP5ugXd",
        "outputId": "4738fe72-4888-424a-e20b-16b8c72b1bc0"
      },
      "execution_count": 8,
      "outputs": [
        {
          "output_type": "display_data",
          "data": {
            "text/plain": [
              "<Figure size 1000x500 with 0 Axes>"
            ]
          },
          "metadata": {}
        },
        {
          "output_type": "display_data",
          "data": {
            "text/plain": [
              "<Figure size 640x480 with 1 Axes>"
            ],
            "image/png": "[encoded data removed]"
          },
          "metadata": {}
        },
        {
          "output_type": "display_data",
          "data": {
            "text/plain": [
              "<Figure size 600x500 with 1 Axes>"
            ],
            "image/png": "[encoded data removed]"
          },
          "metadata": {}
        }
      ]
    },
    {
      "cell_type": "markdown",
      "source": [
        "- Gráfico de barras: Precisión y F1-score por Fold\n",
        "\n",
        "El gráfico de barras permite comparar de forma directa el rendimiento del modelo en cada iteración. Observamos que ambas métricas son relativamente estables en los 5 pliegues:\n",
        "\n",
        "La precisión oscila entre 0.75 y 0.78.\n",
        "El F1-score se mantiene en el rango de 0.66 a 0.68.\n",
        "Esto indica que el modelo no depende excesivamente de una sola partición para su rendimiento, lo que es señal de buena generalización.\n",
        "\n",
        "- Boxplot: Distribución de métricas por Fold\n",
        "\n",
        "El boxplot complementa el análisis mostrando la dispersión de ambas métricas:\n",
        "\n",
        "La precisión presenta baja variabilidad, con una mediana cercana a 0.76 y sin outliers.\n",
        "El F1-score, aunque con un poco más de dispersión, también muestra un comportamiento concentrado, con valores cercanos a 0.68.\n",
        "\n",
        "**Conclusión del análisis visual**\n",
        "\n",
        "Estas visualizaciones confirman de manera gráfica que el modelo Random Forest se comporta de forma consistente a lo largo de los diferentes folds. No se observan anomalías ni fluctuaciones extremas en las métricas, lo cual respalda la idea de que el modelo está bien ajustado y generaliza adecuadamente."
      ],
      "metadata": {
        "id": "jeUru_dAvS1o"
      }
    },
    {
      "cell_type": "markdown",
      "source": [
        "#5. **Discusión de resultados y conclusiones**"
      ],
      "metadata": {
        "id": "-2izAVu2v6cD"
      }
    },
    {
      "cell_type": "markdown",
      "source": [
        "Durante la validación cruzada con k=5, el modelo Random Forest mostró resultados consistentes:\n",
        "\n",
        "- Precisión entre 0.75 y 0.78.\n",
        "- F1-score entre 0.66 y 0.68.\n",
        "\n",
        "Estos valores están alineados con los obtenidos en la Actividad 4 (Precisión: 0.7840, F1-score: 0.6894), lo cual indica que el modelo mantiene un rendimiento estable y no presenta sobreentrenamiento ni subentrenamiento.\n",
        "\n",
        "La baja variabilidad entre folds confirma que el modelo generaliza bien y que las particiones fueron representativas. Esto valida la utilidad de la validación cruzada como técnica de evaluación, especialmente en contextos de Big Data.\n",
        "\n",
        "**Conclusión: El modelo Random Forest es robusto y confiable para esta tarea, mostrando un buen equilibrio entre rendimiento y estabilidad.**\n"
      ],
      "metadata": {
        "id": "-3rduCC4wPAA"
      }
    }
  ]
}